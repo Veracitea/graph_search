{
 "cells": [
  {
   "cell_type": "markdown",
   "metadata": {
    "id": "g7zfrA92j7Ih"
   },
   "source": [
    "# Algorithm 1\n",
    "The algorithm in this file has time complexity dependent on number of hospitals h.\n",
    "- It carries out BFS from every hospital to every node and records this path down for the first hospital.\n",
    "- Subsequent BFS runs for each hospital compares the new path distance with the existing path recorded and only replaces the recorded path with the new path if there is an improvement in distance. \n",
    "- For part c) and d) only the distance and hospital node is recorded to save on memory\n",
    "\n",
    "**Memory Usage**\n",
    "- Running a graph with 2 million nodes takes about 4GB of memory\n",
    "\n",
    "# Functions\n",
    "Run all functions below.\n",
    "## Function to construct adjacency list from file"
   ]
  },
  {
   "cell_type": "code",
   "execution_count": null,
   "metadata": {
    "id": "oEO4ew8AijXp"
   },
   "outputs": [],
   "source": [
    "def construct_adjacency_list(graph_filename):\n",
    "    graph_file = open(graph_filename,'r')\n",
    "    lines = graph_file.readlines() \n",
    "    graph_file.close() \n",
    "    adjacency_list = {}\n",
    "    for line in lines[4:]:\n",
    "        from_node = int(line.split()[0])\n",
    "        to_node = int(line.split()[1])\n",
    "        if  (from_node not in adjacency_list.keys()):\n",
    "            adjacency_list[from_node] = [to_node]\n",
    "        elif (to_node not in adjacency_list[from_node]):\n",
    "            adjacency_list[from_node].append(to_node)\n",
    "        #For undirected graph\n",
    "        if  (to_node not in adjacency_list.keys()):\n",
    "            adjacency_list[to_node] = [from_node]\n",
    "        elif (from_node not in adjacency_list[to_node]):\n",
    "            adjacency_list[to_node].append(from_node)\n",
    "    vertices = adjacency_list.keys()\n",
    "    return adjacency_list"
   ]
  },
  {
   "cell_type": "markdown",
   "metadata": {
    "id": "lNv1hosolvzb"
   },
   "source": [
    "## Function to construct list of hospitals from hospital file"
   ]
  },
  {
   "cell_type": "code",
   "execution_count": null,
   "metadata": {
    "id": "qV-hRcj_lt1k"
   },
   "outputs": [],
   "source": [
    "#Convert hospital file to list of hospitals\n",
    "def construct_hospital_list(hospital_filename):\n",
    "    hospital_file = open(hospital_filename,'r')\n",
    "    hospital_lines = hospital_file.readlines() \n",
    "    hospital_file.close()\n",
    "    num_of_hospitals = int(hospital_lines[0].split()[1])\n",
    "    hospitals_list = []\n",
    "    for line in hospital_lines[1:]:\n",
    "        hospitals_list.append(int(line))\n",
    "    return hospitals_list"
   ]
  },
  {
   "cell_type": "markdown",
   "metadata": {
    "id": "zWBUUD4wipeA"
   },
   "source": [
    "### Part a)\n",
    "Computes the distance from each node in the graph to its nearest hospital. Output the distance and the shortest path for each node to a file."
   ]
  },
  {
   "cell_type": "code",
   "execution_count": null,
   "metadata": {
    "id": "IsfMtQ4WlR1M"
   },
   "outputs": [],
   "source": [
    "from tqdm import tqdm\n",
    "def shortest_path_to_hospital(adjacency_list, hospital_list): \n",
    "  final_paths = {} # Final dictionary of shortest paths for each vertex\n",
    "  hospital_number = 0 # To track the number of hospitals we have visited\n",
    "  for hospital_node in tqdm(hospital_list):\n",
    "    hospital_number+=1\n",
    "    visited = { i : False for i in adjacency_list.keys() }\n",
    "    visited[hospital_node] = True\n",
    "    # If it is the first hospital, just add the path into the final_paths\n",
    "    if (hospital_number==1):\n",
    "      queue = [hospital_node] # Queue of nodes\n",
    "      final_paths[hospital_node]=[hospital_node]\n",
    "      while (len(queue)!= 0):\n",
    "        current_node = queue.pop(0)\n",
    "        if (current_node in adjacency_list.keys()): # If it has neighbours\n",
    "          for neighbour_node in adjacency_list[current_node]: \n",
    "            if (not visited[neighbour_node]):\n",
    "              visited[neighbour_node]=True # Mark as visited\n",
    "              queue.append(neighbour_node) # Add to node to queue\n",
    "              # Each time new nodes are added to the start of the path since we are traversing the graph in the opposite direction\n",
    "              new_path = [neighbour_node]+ final_paths[current_node] # path = [1,2,3]\n",
    "              final_paths[neighbour_node] = new_path # Add path to final_paths\n",
    "    else:\n",
    "      final_paths[hospital_node] = [hospital_node] # Shortest path to a hospital is itself\n",
    "      path_queue = [[hospital_node]] # Queue of paths\n",
    "      while (len(path_queue)!= 0):\n",
    "        current_path = path_queue.pop(0) # First path in the queue\n",
    "        # If the last visited node in the path has neightbours\n",
    "        # Last visited node is at the start since we are traversing in the opposite direction\n",
    "        if (current_path[0] in adjacency_list.keys()):  \n",
    "          # Visit neighbours of the last visited node in the path\n",
    "          for neighbour_node in adjacency_list[current_path[0]]:\n",
    "            # If the neighbour has not been visited\n",
    "            if (not visited[neighbour_node]):\n",
    "              # Visit it\n",
    "              visited[neighbour_node]= True\n",
    "              # New path = [1,2,3]\n",
    "              # Each time new nodes are added to the start of the path since we are traversing the graph in the opposite direction\n",
    "              new_path = [neighbour_node] + current_path\n",
    "              # New distance\n",
    "              new_distance = len(new_path) - 1 #Since path includes the starting node -1\n",
    "              # Append this path to the queue\n",
    "              queue.append(new_path) \n",
    "              # If there hasn't been a path to this node yet\n",
    "              if (neighbour_node not in final_paths.keys()):\n",
    "                # Add this path\n",
    "                final_paths[neighbour_node] = new_path\n",
    "              # If there is an existing path to a hospital, compare the distance of the new path to the previous path\n",
    "              elif (len(final_paths[neighbour_node])-1 > new_distance): # Since path includes the starting node -1\n",
    "                final_paths[neighbour_node] = new_path  \n",
    "  return final_paths"
   ]
  },
  {
   "cell_type": "markdown",
   "metadata": {
    "id": "Zqoq2EBPpE1k"
   },
   "source": [
    "### Part c) and d)\n",
    "Computing the distances from each node to top-k nearest hospitals for an input value of k. (k can be 2)"
   ]
  },
  {
   "cell_type": "code",
   "execution_count": null,
   "metadata": {
    "id": "jjk9TKDJo7xK"
   },
   "outputs": [],
   "source": [
    "from tqdm import tqdm\n",
    "def nearest_k_hospital(adjacency_list, hospital_list, k):  #Top k number of hospitals\n",
    "    # Final dictionary of nearest hospital and distance for each vertex\n",
    "    final_hospital_and_distance = {} \n",
    "    hospital_number = 0 # Keep track of the hospital we are on\n",
    "    for hospital_node in tqdm(hospital_list):\n",
    "      hospital_number+=1\n",
    "      visited = { i : False for i in adjacency_list.keys() }\n",
    "      visited[hospital_node] = True\n",
    "      # If it is the first hospital, just recorded in final_hospital_and_distance\n",
    "      if (hospital_number==1):\n",
    "        queue = [hospital_node] # Queue of nodes\n",
    "        # (hospital_node, distance) This list is maintained in increasing order\n",
    "        final_hospital_and_distance[hospital_node]=[(hospital_node, 0)] \n",
    "        while (len(queue)!= 0):\n",
    "          current_node = queue.pop(0) # Node\n",
    "          # If this node has neighbours\n",
    "          if (current_node in adjacency_list.keys()):\n",
    "            # Visit all neighbours of this node\n",
    "            for neighbour_node in adjacency_list[current_node]:\n",
    "              # If this neighbour has not been visited\n",
    "              if (not visited[neighbour_node]):\n",
    "                # Visit it\n",
    "                visited[neighbour_node]=True\n",
    "                #Add to queue\n",
    "                queue.append(neighbour_node)\n",
    "                new_distance = final_hospital_and_distance[current_node][0][1] + 1\n",
    "                #For the first hospital, we can directly record it in final hospital\n",
    "                final_hospital_and_distance[neighbour_node] = [(hospital_node, new_distance)] # (hospital_node , distance)\n",
    "      else: #For all subsequent hospitals\n",
    "        if (hospital_node in final_hospital_and_distance.keys()):\n",
    "          # Always first in the list since shortest path to hospital is itself\n",
    "          final_hospital_and_distance[hospital_node].insert(0, (hospital_node, 0)) \n",
    "          # Trim the list to fit k\n",
    "          final_hospital_and_distance[hospital_node] = final_hospital_and_distance[hospital_node][:k] \n",
    "        else: \n",
    "          final_hospital_and_distance[hospital_node] = (hospital_node, 0)\n",
    "        \n",
    "        # Queue of (current_node, distance) \n",
    "        distance_queue = [(hospital_node, 0)] \n",
    "        while (len(distance_queue)!= 0):\n",
    "          current_node_dist = distance_queue.pop(0) # Path\n",
    "          # If the current node has neightbours\n",
    "          if (current_node_dist[0] in adjacency_list.keys()):\n",
    "            # Visit neighbours of the current node\n",
    "            for neighbour_node in adjacency_list[current_node_dist[0]]:\n",
    "              # If the neighbour has not been visited\n",
    "              if (not visited[neighbour_node]):\n",
    "                # Visit it\n",
    "                visited[neighbour_node]= True\n",
    "                # New distance = previous distance + 1\n",
    "                new_distance = current_node_dist[1] + 1\n",
    "                # Append this path to the queue\n",
    "                distance_queue.append((neighbour_node, new_distance)) #(current_node, distance)\n",
    "                # If there hasn't been a hospital to this node yet\n",
    "                if (neighbour_node not in final_hospital_and_distance.keys()):\n",
    "                  # Add this path\n",
    "                  final_hospital_and_distance[neighbour_node] = [(hospital_node, new_distance)]\n",
    "                # If there is an existing path to a hospital\n",
    "                # Compare the distance of the new path to all previous entries from the right to the left \n",
    "                # to find position to place the new entry (Like insertion sort)\n",
    "                # Entries are in increasing order of distance\n",
    "                else:\n",
    "                  # Compare distance from right to left\n",
    "                  for i in range(len(final_hospital_and_distance[neighbour_node])-1, -1, -1):\n",
    "                    if (final_hospital_and_distance[neighbour_node][i][1] <= new_distance):\n",
    "                      final_hospital_and_distance[neighbour_node].insert(i+1, (hospital_node, new_distance))\n",
    "                      break\n",
    "                    # If it is the shortest path\n",
    "                    if (i==0 and final_hospital_and_distance[neighbour_node][i][1] > new_distance): \n",
    "                      #Place it at the start\n",
    "                      final_hospital_and_distance[neighbour_node].insert(0,(hospital_node, new_distance))\n",
    "                  #Trim the list to fit k\n",
    "                  final_hospital_and_distance[neighbour_node] = final_hospital_and_distance[neighbour_node][:k] \n",
    "    return final_hospital_and_distance"
   ]
  },
  {
   "cell_type": "markdown",
   "metadata": {
    "id": "vSh0og63v5KH"
   },
   "source": [
    "## Path Finding UI"
   ]
  },
  {
   "cell_type": "markdown",
   "metadata": {
    "id": "ZzQ7hlesrGGy"
   },
   "source": [
    "\n",
    "### Loading files\n",
    "\n",
    "**Graph File**\n",
    "\n",
    "Make sure the format of the graph file matches this example:\n",
    "```\n",
    "Line0: # Directed graph (each unordered pair of nodes is saved once): roadNet-CA.txt\n",
    "Line1: # California road network\n",
    "Line2: # Nodes: 1965206 Edges: 5533214\n",
    "Line3: # FromNodeId ToNodeId\n",
    "Line4: 0 1\n",
    "Line5: 0 2\n",
    "```\n",
    "\n",
    "\n",
    "\n"
   ]
  },
  {
   "cell_type": "code",
   "execution_count": null,
   "metadata": {
    "colab": {
     "base_uri": "https://localhost:8080/"
    },
    "id": "jRLoTNZGmhMm",
    "outputId": "6184e3ad-77e5-4398-b866-7b438d47c110"
   },
   "outputs": [],
   "source": [
    "# Loading graph file\n",
    "import time\n",
    "graph_filename = input(\"Graph filename: \")\n",
    "adjacency_list_construction_start_time = time.time()\n",
    "adjacency_list = construct_adjacency_list(graph_filename)\n",
    "adjacency_list_construction_time = time.time() - adjacency_list_construction_start_time\n",
    "print(\"Adjacency List Constructed in\", adjacency_list_construction_time, \"seconds\")"
   ]
  },
  {
   "cell_type": "markdown",
   "metadata": {
    "id": "aasui-hdu7qO"
   },
   "source": [
    "**Hospital file**\n",
    "\n",
    "Make sure the format of the hospital file matches this example:\n",
    "```\n",
    "Line0: # 3\n",
    "Line1: 6\n",
    "Line2: 11\n",
    "Line3: 4\n",
    "```"
   ]
  },
  {
   "cell_type": "code",
   "execution_count": null,
   "metadata": {
    "colab": {
     "base_uri": "https://localhost:8080/"
    },
    "id": "X6gqFZL2t7pj",
    "outputId": "79ce2a81-9770-4530-cd99-46aa181073a0"
   },
   "outputs": [],
   "source": [
    "# Loading hospital file\n",
    "import time\n",
    "hospital_filename = input(\"Hospital filename: \")\n",
    "hospital_list_construction_start_time = time.time()\n",
    "hospital_list = construct_hospital_list(hospital_filename)\n",
    "hospital_list_construction_time = time.time() - hospital_list_construction_start_time\n",
    "print(\"Hospital List Constructed in\", hospital_list_construction_time, \"seconds\")"
   ]
  },
  {
   "cell_type": "markdown",
   "metadata": {
    "id": "LsB0XdJtvID-"
   },
   "source": [
    "### Part a)\n",
    "Computes the distance from each node in the graph to its nearest hospital. Output the distance and the shortest path for each node to a file.\n",
    "\n",
    "**Make sure you have loaded the files above**"
   ]
  },
  {
   "cell_type": "code",
   "execution_count": null,
   "metadata": {
    "colab": {
     "base_uri": "https://localhost:8080/"
    },
    "id": "uFGyWgGKvGRX",
    "outputId": "9844a922-8cf1-43a5-896d-ac331baf4260"
   },
   "outputs": [],
   "source": [
    "import time\n",
    "from tqdm import tqdm\n",
    "output_filename = input(\"Name of output file: \")\n",
    "shortest_path_start_time = time.time()\n",
    "shortest_path_output = shortest_path_to_hospital(adjacency_list, hospital_list)\n",
    "f = open(output_filename, \"w\")\n",
    "all_nodes = list(adjacency_list.keys())\n",
    "for i in tqdm(range(len(all_nodes))):\n",
    "  node = all_nodes.pop(0)\n",
    "  if (node in shortest_path_output.keys()):\n",
    "    path = shortest_path_output[node]\n",
    "    distance = len(path) - 1 # Exclude starting node\n",
    "    # Output to file\n",
    "    print(\"Node: \", node, file=f)\n",
    "    print(\"Path:\", path , file=f)\n",
    "    print(\"Distance: \", distance, file=f)\n",
    "    print(\"---------------------------------------------------\", file=f)\n",
    "    # Output to console\n",
    "    # print(\"Node: \", node)\n",
    "    # print(\"Path:\", path)\n",
    "    # print(\"Distance: \", distance)\n",
    "    # print(\"---------------------------------------------------\")\n",
    "    shortest_path_output.pop(node)\n",
    "  else:\n",
    "    print(\"No paths to hospital from node\", node, file=f)\n",
    "    # print(\"No paths to hospital from node\", node)\n",
    "f.close()\n",
    "shortest_path_time = time.time() - shortest_path_start_time\n",
    "print(\"Shortest Path Ouputed in\", shortest_path_time, \"seconds\")"
   ]
  },
  {
   "cell_type": "markdown",
   "metadata": {
    "id": "otyKg56NzZKm"
   },
   "source": [
    "### Part c) and d)\n",
    "Computing the distances from each node to top-k nearest hospitals for an input value of k. (k can be 2)\n",
    "\n",
    "**Make sure you have loaded the files above**"
   ]
  },
  {
   "cell_type": "code",
   "execution_count": null,
   "metadata": {
    "colab": {
     "base_uri": "https://localhost:8080/"
    },
    "id": "kocxoKWGzRBl",
    "outputId": "5826ef88-2aff-4c5b-b8e3-b96765f515b3"
   },
   "outputs": [],
   "source": [
    "import time\n",
    "from tqdm import tqdm\n",
    "output_filename = input(\"Name of output file: \")\n",
    "k = int(input(\"Value of k: \"))\n",
    "nearest_hospital_start_time = time.time()\n",
    "nearest_hospital_output = nearest_k_hospital(adjacency_list, hospital_list, k)\n",
    "f = open(output_filename, \"w\")\n",
    "all_nodes = list(adjacency_list.keys())\n",
    "for i in tqdm(range(len(all_nodes))):\n",
    "  node = all_nodes.pop(0)\n",
    "  if (node in nearest_hospital_output.keys()):\n",
    "      hospital_dist_list = nearest_hospital_output[node] # [(Hospital, Distance)]\n",
    "      # Output to file\n",
    "      print(\"Node: \", node, file=f)\n",
    "      # print(\"Node: \", node)\n",
    "      print(\"Nearest Hospitals\", k, \": \", file=f)\n",
    "      # print(\"Nearest Hospitals\", k, \": \")\n",
    "      for hospital_node, distance in hospital_dist_list:\n",
    "        print(\"Hospital\", hospital_node, \"\\tDistance:\", distance, file=f) \n",
    "        # print(\"Hospital\", hospital_node, \"\\tDistance:\", distance) \n",
    "      print(\"---------------------------------------------------\", file=f)\n",
    "      # print(\"---------------------------------------------------\")\n",
    "      nearest_hospital_output.pop(node)\n",
    "  else:\n",
    "    print(\"No paths to hospital from node\", node, file=f)\n",
    "    # print(\"No paths to hospital from node\", node)\n",
    "f.close()\n",
    "nearest_hospital_time = time.time() - nearest_hospital_start_time\n",
    "print(\"Nearest Hospitals Ouputed In\", nearest_hospital_time, \"seconds\")"
   ]
  }
 ],
 "metadata": {
  "colab": {
   "collapsed_sections": [],
   "name": "Algorithm1.ipynb",
   "provenance": [],
   "toc_visible": true
  },
  "kernelspec": {
   "display_name": "Python 3",
   "language": "python",
   "name": "python3"
  },
  "language_info": {
   "codemirror_mode": {
    "name": "ipython",
    "version": 3
   },
   "file_extension": ".py",
   "mimetype": "text/x-python",
   "name": "python",
   "nbconvert_exporter": "python",
   "pygments_lexer": "ipython3",
   "version": "3.7.3"
  }
 },
 "nbformat": 4,
 "nbformat_minor": 1
}
