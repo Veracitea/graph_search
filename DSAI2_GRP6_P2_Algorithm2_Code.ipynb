{
 "cells": [
  {
   "cell_type": "markdown",
   "metadata": {
    "id": "vrf_-KfACnSA"
   },
   "source": [
    "# Algorithm 2\n",
    "The algorithm in this file has time complexity independent on number of hospitals h.\n",
    "- It carries out BFS from every node (excluding hospital node) to the top k nearest distinct hospital nodes and record down the paths and distances.\n",
    "\n",
    "\n",
    "\n",
    "# Functions\n",
    "Run all functions below.\n",
    "## Function to construct adjacency list from file"
   ]
  },
  {
   "cell_type": "code",
   "execution_count": null,
   "metadata": {
    "id": "EWMjEORACtzO"
   },
   "outputs": [],
   "source": [
    "def construct_adjacency_list(graph_filename):\n",
    "    graph_file = open(graph_filename,'r')\n",
    "    lines = graph_file.readlines() \n",
    "    graph_file.close() \n",
    "    adjacency_list = {}\n",
    "    for line in lines[4:]:\n",
    "        from_node = int(line.split()[0])\n",
    "        to_node = int(line.split()[1])\n",
    "        if  (from_node not in adjacency_list.keys()):\n",
    "            adjacency_list[from_node] = [to_node]\n",
    "        elif (to_node not in adjacency_list[from_node]):\n",
    "            adjacency_list[from_node].append(to_node)\n",
    "        #For undirected graph\n",
    "        if  (to_node not in adjacency_list.keys()):\n",
    "            adjacency_list[to_node] = [from_node]\n",
    "        elif (from_node not in adjacency_list[to_node]):\n",
    "            adjacency_list[to_node].append(from_node)\n",
    "    vertices = adjacency_list.keys()\n",
    "    return adjacency_list"
   ]
  },
  {
   "cell_type": "markdown",
   "metadata": {
    "id": "nzMLtM5cAxBp"
   },
   "source": [
    "## Function to construct list of hospitals from hospital file"
   ]
  },
  {
   "cell_type": "code",
   "execution_count": null,
   "metadata": {
    "id": "MYVqx_72Cwg5"
   },
   "outputs": [],
   "source": [
    "#Convert hospital file to list of hospitals\n",
    "def construct_hospital_list(hospital_filename):\n",
    "    hospital_file = open(hospital_filename,'r')\n",
    "    hospital_lines = hospital_file.readlines() \n",
    "    hospital_file.close()\n",
    "    num_of_hospitals = int(hospital_lines[0].split()[1])\n",
    "    hospitals_list = []\n",
    "    for line in hospital_lines[1:]:\n",
    "        hospitals_list.append(int(line))\n",
    "    return hospitals_list"
   ]
  },
  {
   "cell_type": "markdown",
   "metadata": {
    "id": "zOnPvrzHBLGz"
   },
   "source": [
    "## Function to return information of the graph\n",
    "* number of vertices\n",
    "* number of edges\n",
    "* number of hospitals\n",
    "* list of hospitals"
   ]
  },
  {
   "cell_type": "code",
   "execution_count": null,
   "metadata": {
    "id": "DiMBYxGTEhOo"
   },
   "outputs": [],
   "source": [
    "def vertices_edges(graph_filename, hospital_filename):\n",
    "    graph_file = open(graph_filename,'r')\n",
    "    graph_lines = graph_file.readlines() \n",
    "    graph_file.close()\n",
    "    num_of_v = int(graph_lines[2].strip().split()[2]) #number of vertices\n",
    "    num_of_e = int(graph_lines[2].strip().split()[4]) #number of edges \n",
    "    hospital_file = open(hospital_filename,'r')\n",
    "    hospital_lines = hospital_file.readlines() \n",
    "    hospital_file.close() \n",
    "    num_of_hospitals = int(hospital_lines[0].split()[1])\n",
    "    hospitals = []\n",
    "    for line in hospital_lines[1:]:\n",
    "        hospitals.append(int(line))\n",
    "    print(\"Number of vertices in the graph:\", num_of_v)\n",
    "    print(\"Number of edges in the graph:\", num_of_e)\n",
    "    print(\"Number of hospitals:\", num_of_hospitals)\n",
    "    print(\"The list of hospitals:\", hospitals)"
   ]
  },
  {
   "cell_type": "markdown",
   "metadata": {
    "id": "lL1ZkI8NBlHF"
   },
   "source": [
    "### Algorithm (satisfy all parts of the question)\n",
    "Computes the distances from each node in the graph to its top k nearest hospitals for an input value of k. Output the distances and the shortest paths for each node to a file."
   ]
  },
  {
   "cell_type": "code",
   "execution_count": null,
   "metadata": {
    "id": "VagkC5nXC0vf"
   },
   "outputs": [],
   "source": [
    "from tqdm import tqdm\n",
    "def bfs_shortest_path(graph, hospitals, k, output_filename): \n",
    "    f = open(output_filename, \"a\")\n",
    "    vertices = graph.keys()\n",
    "    other_nodes = [item for item in vertices if item not in hospitals] # consider only the non-hospital nodes as source nodes\n",
    "\n",
    "    for node in tqdm(other_nodes):\n",
    "        count = 0 # counter for k\n",
    "        temp_list = hospitals.copy() # a temporary list that stores hospitals\n",
    "        prev_node = {node:-1}\n",
    "        visited = { i : False for i in vertices }\n",
    "        visited[node] = True\n",
    "        queue = [node]\n",
    "        while (len(queue)!= 0):\n",
    "            current_node = queue.pop(0)\n",
    "            if (current_node in vertices):\n",
    "                for neighbour_node in graph[current_node]:\n",
    "                    if (not visited[neighbour_node]):\n",
    "                        visited[neighbour_node]=True\n",
    "                        queue.append(neighbour_node)\n",
    "                        prev_node[neighbour_node] = current_node\n",
    "                        # if it is a hospital\n",
    "                        if (neighbour_node in temp_list):\n",
    "                            count += 1\n",
    "                            temp_list.remove(neighbour_node) # remove hospital_node to prepare for next iteration\n",
    "\n",
    "                            route=[neighbour_node]\n",
    "                            prev=neighbour_node\n",
    "                            while (prev_node[prev]!=-1):\n",
    "                                route = [prev_node[prev]] + route\n",
    "                                prev = prev_node[prev] # to store path\n",
    "                            print(\"Starting Node:\", node, file=f)\n",
    "                            print(\"Distance:\", len(route)-1, file=f)\n",
    "                            print(\"Route:\", route, file=f)\n",
    "    \n",
    "                        if (count==k):\n",
    "                            print(\"\\n\",file=f)\n",
    "                            queue = [] # to exit loop\n",
    "                            break;\n",
    "        if (count < k): \n",
    "            print(\"No more route\", file=f)           \n",
    "            print(\"\\n\",file=f)\n",
    "    f.close()"
   ]
  },
  {
   "cell_type": "markdown",
   "metadata": {
    "id": "iZLy8BQWDadh"
   },
   "source": [
    "## Path Finding UI"
   ]
  },
  {
   "cell_type": "markdown",
   "metadata": {
    "id": "MDBjAhzDDb_i"
   },
   "source": [
    "\n",
    "### Loading files\n",
    "\n",
    "**Graph File**\n",
    "\n",
    "Make sure the format of the graph file matches this example:\n",
    "```\n",
    "Line0: # Directed graph (each unordered pair of nodes is saved once): roadNet-CA.txt\n",
    "Line1: # California road network\n",
    "Line2: # Nodes: 1965206 Edges: 5533214\n",
    "Line3: # FromNodeId ToNodeId\n",
    "Line4: 0 1\n",
    "Line5: 0 2\n",
    "```"
   ]
  },
  {
   "cell_type": "code",
   "execution_count": null,
   "metadata": {
    "colab": {
     "base_uri": "https://localhost:8080/"
    },
    "id": "GbCeSqn4Dugm",
    "outputId": "8fe8f813-e110-4065-9d13-2bc1bb84f189"
   },
   "outputs": [],
   "source": [
    "# Loading graph file\n",
    "import time\n",
    "graph_filename = input(\"Graph filename: \")\n",
    "adjacency_list_construction_start_time = time.time()\n",
    "graph = construct_adjacency_list(graph_filename)\n",
    "adjacency_list_construction_time = time.time() - adjacency_list_construction_start_time\n",
    "print(\"Adjacency List Constructed in\", adjacency_list_construction_time, \"seconds\")"
   ]
  },
  {
   "cell_type": "markdown",
   "metadata": {
    "id": "J5-ITqwjEEGg"
   },
   "source": [
    "**Hospital file**\n",
    "\n",
    "Make sure the format of the hospital file matches this example:\n",
    "```\n",
    "Line0: # 3\n",
    "Line1: 6\n",
    "Line2: 11\n",
    "Line3: 4\n",
    "```"
   ]
  },
  {
   "cell_type": "code",
   "execution_count": null,
   "metadata": {
    "colab": {
     "base_uri": "https://localhost:8080/"
    },
    "id": "gcExyfSrEHr2",
    "outputId": "76046334-074a-46e1-db10-9b929f9a39a6"
   },
   "outputs": [],
   "source": [
    "# Loading hospital file\n",
    "import time\n",
    "hospital_filename = input(\"Hospital filename: \")\n",
    "hospital_list_construction_start_time = time.time()\n",
    "hospitals = construct_hospital_list(hospital_filename)\n",
    "hospital_list_construction_time = time.time() - hospital_list_construction_start_time\n",
    "print(\"Hospital List Constructed in\", hospital_list_construction_time, \"seconds\")"
   ]
  },
  {
   "cell_type": "markdown",
   "metadata": {
    "id": "LOkRnyaTEfPi"
   },
   "source": [
    "**Print basic information of the graph**"
   ]
  },
  {
   "cell_type": "code",
   "execution_count": null,
   "metadata": {
    "colab": {
     "base_uri": "https://localhost:8080/"
    },
    "id": "sAfFW6jrC_-6",
    "outputId": "c045783f-199e-4d2d-fa22-e1ac2cb40f67"
   },
   "outputs": [],
   "source": [
    "vertices_edges(graph_filename, hospital_filename)"
   ]
  },
  {
   "cell_type": "markdown",
   "metadata": {
    "id": "nZvy00yNGCi4"
   },
   "source": [
    "### Part a)\n",
    "Computes the distance from each node in the graph to its nearest hospital. Output the distance and the shortest path for each node to a file.\n",
    "\n",
    "**Make sure you have loaded the files above**"
   ]
  },
  {
   "cell_type": "code",
   "execution_count": null,
   "metadata": {
    "colab": {
     "base_uri": "https://localhost:8080/"
    },
    "id": "JTiiZxTNDAKN",
    "outputId": "7c7ce99b-8c00-4f2b-9606-80f668a695b7"
   },
   "outputs": [],
   "source": [
    "import time\n",
    "output_filename = input(\"Name of output file: \")\n",
    "shortest_path_start_time = time.time()\n",
    "bfs_shortest_path(graph, hospitals, 1, output_filename)\n",
    "shortest_path_time = time.time() - shortest_path_start_time\n",
    "print(\"Shortest Path Ouputed in\", shortest_path_time, \"seconds\")"
   ]
  },
  {
   "cell_type": "markdown",
   "metadata": {
    "id": "Mh24mEjJI-83"
   },
   "source": [
    "### Part c) and d)\n",
    "Computing the distances from each node to top-k nearest hospitals for an input value of k. (k can be 2)\n",
    "\n",
    "**Make sure you have loaded the files above**"
   ]
  },
  {
   "cell_type": "code",
   "execution_count": null,
   "metadata": {
    "colab": {
     "base_uri": "https://localhost:8080/"
    },
    "id": "HWKh2Gu5DANO",
    "outputId": "2ea2618b-0be2-4c38-a7cf-180d2c6905e0"
   },
   "outputs": [],
   "source": [
    "import time\n",
    "k = int(input(\"Value of k: \"))\n",
    "output_filename = input(\"Name of output file: \")\n",
    "nearest_hospital_start_time = time.time()\n",
    "bfs_shortest_path(graph, hospitals, k, output_filename)\n",
    "nearest_hospital_time = time.time() - nearest_hospital_start_time\n",
    "print(\"Shortest Path Ouputed in\", nearest_hospital_time, \"seconds\")"
   ]
  },
  {
   "cell_type": "code",
   "execution_count": null,
   "metadata": {
    "id": "w_SJB0hJDAQn"
   },
   "outputs": [],
   "source": []
  }
 ],
 "metadata": {
  "colab": {
   "collapsed_sections": [],
   "name": "Algorithm2.ipynb",
   "provenance": [],
   "toc_visible": true
  },
  "kernelspec": {
   "display_name": "Python 3",
   "language": "python",
   "name": "python3"
  },
  "language_info": {
   "codemirror_mode": {
    "name": "ipython",
    "version": 3
   },
   "file_extension": ".py",
   "mimetype": "text/x-python",
   "name": "python",
   "nbconvert_exporter": "python",
   "pygments_lexer": "ipython3",
   "version": "3.7.3"
  }
 },
 "nbformat": 4,
 "nbformat_minor": 1
}
